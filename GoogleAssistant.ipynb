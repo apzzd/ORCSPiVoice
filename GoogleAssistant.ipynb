{
 "cells": [
  {
   "cell_type": "markdown",
   "id": "43dc7526",
   "metadata": {},
   "source": [
    "## Google Assistant \n",
    "\n",
    "This is the code you used earlier to run the Google Assistant on the AIY Voice Kit. "
   ]
  },
  {
   "cell_type": "code",
   "execution_count": null,
   "id": "ea3e89b2",
   "metadata": {},
   "outputs": [],
   "source": [
    "import argparse\n",
    "import locale\n",
    "import logging\n",
    "import signal\n",
    "import sys\n",
    "import time\n",
    "\n",
    "from aiy.assistant.grpc import AssistantServiceClientWithLed\n",
    "from aiy.assistant import auth_helpers, device_helpers, device_handler_helpers\n",
    "from aiy.board import Board\n",
    "from aiy.leds import Leds, Color"
   ]
  },
  {
   "cell_type": "markdown",
   "id": "818ac74b",
   "metadata": {},
   "source": [
    "#### Setup\n",
    "\n",
    "Here we set the volume (0-100), language and create a logger object allowing all the different parts of the code to write messages to a log - or here to the screen."
   ]
  },
  {
   "cell_type": "code",
   "execution_count": null,
   "id": "3014bfd7",
   "metadata": {
    "scrolled": false
   },
   "outputs": [],
   "source": [
    "logger = logging.getLogger(__name__)\n",
    "language, _ = locale.getdefaultlocale()\n",
    "volume = 10\n",
    "\n",
    "logging.basicConfig(level=logging.DEBUG)\n",
    "signal.signal(signal.SIGTERM, lambda signum, frame: sys.exit(0))\n",
    "\n",
    "credentials = auth_helpers.get_assistant_credentials()\n",
    "device_model_id, device_id = device_helpers.get_ids_for_service(credentials)\n",
    "device_handler = device_handler_helpers.DeviceRequestHandler(device_id)\n",
    "\n",
    "logger.info('device_model_id: %s', device_model_id)\n",
    "logger.info('device_id: %s', device_id)"
   ]
  },
  {
   "cell_type": "markdown",
   "id": "613342f1",
   "metadata": {},
   "source": [
    "#### Custom handlers\n",
    "\n",
    "Once we have configured curom traits (like turning the servo), we need to add the code that handles those requests here."
   ]
  },
  {
   "cell_type": "code",
   "execution_count": null,
   "id": "f80ffb35",
   "metadata": {},
   "outputs": [],
   "source": [
    "#------------------------------------------------------------------------------\n",
    "# Add custom device handlers here\n",
    "#------------------------------------------------------------------------------\n",
    "\n",
    "## None for now\n",
    "\n",
    "#------------------------------------------------------------------------------    "
   ]
  },
  {
   "cell_type": "markdown",
   "id": "75b96b32",
   "metadata": {},
   "source": [
    "#### Assistant loop\n",
    "\n",
    "Here is the main part. Basically it waits for the user to press the button and then calls the assistent.conversation() routine to deal with one convsersation. Once it send it goes back waiting for someone to press the button and so on."
   ]
  },
  {
   "cell_type": "code",
   "execution_count": null,
   "id": "fcd57627",
   "metadata": {},
   "outputs": [],
   "source": [
    "with Board() as board:\n",
    "    assistant = AssistantServiceClientWithLed(board=board,\n",
    "                                              volume_percentage=volume,\n",
    "                                              language_code=language,\n",
    "                                              credentials=credentials,\n",
    "                                              device_model_id=device_model_id,\n",
    "                                              device_id=device_id,\n",
    "                                              device_handler=device_handler)\n",
    "\n",
    "    try:\n",
    "        while True:\n",
    "            logging.info('Press button to start conversation...')\n",
    "            board.button.wait_for_press()\n",
    "            logging.info('Conversation started!')\n",
    "            assistant.conversation()\n",
    "    except KeyboardInterrupt:\n",
    "        print(\"Bye\")"
   ]
  }
 ],
 "metadata": {
  "kernelspec": {
   "display_name": "Python 3 (ipykernel)",
   "language": "python",
   "name": "python3"
  },
  "language_info": {
   "codemirror_mode": {
    "name": "ipython",
    "version": 3
   },
   "file_extension": ".py",
   "mimetype": "text/x-python",
   "name": "python",
   "nbconvert_exporter": "python",
   "pygments_lexer": "ipython3",
   "version": "3.7.3"
  }
 },
 "nbformat": 4,
 "nbformat_minor": 5
}
